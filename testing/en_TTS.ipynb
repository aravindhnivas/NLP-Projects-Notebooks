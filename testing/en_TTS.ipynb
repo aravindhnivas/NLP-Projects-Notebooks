{
 "cells": [
  {
   "cell_type": "code",
   "execution_count": 65,
   "metadata": {
    "dotnet_interactive": {
     "language": "csharp"
    },
    "polyglot_notebook": {
     "kernelName": "csharp"
    }
   },
   "outputs": [],
   "source": [
    "from TTS.api import TTS\n",
    "from pydub import AudioSegment\n",
    "import os\n",
    "from tqdm import tqdm"
   ]
  },
  {
   "cell_type": "code",
   "execution_count": null,
   "metadata": {},
   "outputs": [],
   "source": [
    "tts = TTS(\"tts_models/multilingual/multi-dataset/xtts_v2\", progress_bar=True)"
   ]
  },
  {
   "cell_type": "code",
   "execution_count": 66,
   "metadata": {},
   "outputs": [],
   "source": []
  },
  {
   "cell_type": "code",
   "execution_count": 71,
   "metadata": {},
   "outputs": [],
   "source": [
    "def split_text(text, max_len=200):\n",
    "    paragraphs = text.split(\"\\n\")\n",
    "    chunks = []\n",
    "    for paragraph in paragraphs:\n",
    "        sentences = paragraph.split(\".\")\n",
    "        chunk = \"\"\n",
    "        for sentence in sentences:\n",
    "            sentence = sentence.strip()\n",
    "            if len(sentence) == 0:\n",
    "                continue\n",
    "            sentence += \".\"\n",
    "            if len(chunk) + len(sentence) <= max_len:\n",
    "                chunk += \" \" + sentence\n",
    "            else:\n",
    "                if len(sentence) > max_len:\n",
    "                    for i in range(0, len(sentence), max_len):\n",
    "                        sub_sentence = sentence[i:i+max_len]\n",
    "                        if sub_sentence[-1] != \".\":\n",
    "                            sub_sentence += \".\"\n",
    "                        chunks.append(sub_sentence)\n",
    "                else:\n",
    "                    chunks.append(chunk.strip())\n",
    "                    chunk = sentence\n",
    "        if chunk:\n",
    "            chunks.append(chunk.strip())\n",
    "    return chunks\n",
    "\n",
    "def gen_speech(text, name='output', speaker=\"Ana Florence\", language=\"en\", out_fmt=\"mp3\"):\n",
    "    audio = AudioSegment.empty()\n",
    "    outfilename = f\"{name}_{language}\"\n",
    "    for ind, chunk in enumerate(tqdm(split_text(text))):\n",
    "        file_path=f\"./processed_audio/{outfilename}_chunk_{ind}.wav\"\n",
    "        tts.tts_to_file(text=chunk,\n",
    "            file_path=file_path,\n",
    "            speaker=speaker,\n",
    "            language=language)\n",
    "        \n",
    "        audio_chunk = AudioSegment.from_file(file_path)\n",
    "        audio += audio_chunk\n",
    "    \n",
    "    audio.export(f\"./processed_audio/{outfilename}.{out_fmt}\", format=out_fmt)\n",
    "    \n",
    "    # remove the chunk audio files\n",
    "    # for ind in range(len(split_text(text))):\n",
    "    #     file_path=f\"{name}_{language}_chunk_{ind}.wav\"\n",
    "    #     os.remove(file_path)\n",
    "    return audio"
   ]
  },
  {
   "cell_type": "code",
   "execution_count": 75,
   "metadata": {},
   "outputs": [
    {
     "name": "stderr",
     "output_type": "stream",
     "text": [
      "  0%|          | 0/9 [00:00<?, ?it/s]"
     ]
    },
    {
     "name": "stdout",
     "output_type": "stream",
     "text": [
      " > Text splitted to sentences.\n",
      "['Shiva gazed at the orange sky.', 'The clouds hovering above Mansarovar had just parted to reveal the setting sun.', 'The brilliant giver of life was calling it a day once again.']\n"
     ]
    },
    {
     "name": "stderr",
     "output_type": "stream",
     "text": [
      " 11%|█         | 1/9 [00:20<02:44, 20.59s/it]"
     ]
    },
    {
     "name": "stdout",
     "output_type": "stream",
     "text": [
      " > Processing time: 20.568287134170532\n",
      " > Real-time factor: 1.5986504261902186\n",
      " > Text splitted to sentences.\n",
      "['But the sunset!', 'He tried never to miss the sunset!', 'On any other day, Shiva would have taken in the vista — the sun and the immense lake against the magnificent backdrop of the Himalayas stretching as .']\n"
     ]
    },
    {
     "name": "stderr",
     "output_type": "stream",
     "text": [
      " 22%|██▏       | 2/9 [00:46<02:44, 23.45s/it]"
     ]
    },
    {
     "name": "stdout",
     "output_type": "stream",
     "text": [
      " > Processing time: 25.4265718460083\n",
      " > Real-time factor: 1.6414950262463197\n",
      " > Text splitted to sentences.\n",
      "['far back as the eye could see.']\n"
     ]
    },
    {
     "name": "stderr",
     "output_type": "stream",
     "text": [
      " 33%|███▎      | 3/9 [00:49<01:26, 14.38s/it]"
     ]
    },
    {
     "name": "stdout",
     "output_type": "stream",
     "text": [
      " > Processing time: 3.591294050216675\n",
      " > Real-time factor: 1.5857904879701552\n",
      " > Text splitted to sentences.\n",
      "['Shiva had seen a few sunrises in his twenty-one years.', 'But not today.']\n"
     ]
    },
    {
     "name": "stderr",
     "output_type": "stream",
     "text": [
      " 44%|████▍     | 4/9 [00:57<00:59, 11.82s/it]"
     ]
    },
    {
     "name": "stdout",
     "output_type": "stream",
     "text": [
      " > Processing time: 7.8878700733184814\n",
      " > Real-time factor: 1.5060225747841554\n",
      " > Text splitted to sentences.\n",
      "['He squatted and perched his lithe, muscular body on the narrow ledge extending over the lake.', 'The numerous battle scars on his skin gleamed in the shimmering reflected light of the waters.']\n"
     ]
    },
    {
     "name": "stderr",
     "output_type": "stream",
     "text": [
      " 56%|█████▌    | 5/9 [01:18<01:00, 15.09s/it]"
     ]
    },
    {
     "name": "stdout",
     "output_type": "stream",
     "text": [
      " > Processing time: 20.858378171920776\n",
      " > Real-time factor: 1.6212889124748067\n",
      " > Text splitted to sentences.\n",
      "['Shiva remembered well his carefree childhood days.', 'He had perfected the art of throwing pebbles that bounced off the surface of the lake.']\n"
     ]
    },
    {
     "name": "stderr",
     "output_type": "stream",
     "text": [
      " 67%|██████▋   | 6/9 [01:32<00:43, 14.61s/it]"
     ]
    },
    {
     "name": "stdout",
     "output_type": "stream",
     "text": [
      " > Processing time: 13.670319080352783\n",
      " > Real-time factor: 1.5572333015879634\n",
      " > Text splitted to sentences.\n",
      "['He still held the record in his tribe for the highest number of bounces: seventeen.']\n"
     ]
    },
    {
     "name": "stderr",
     "output_type": "stream",
     "text": [
      " 78%|███████▊  | 7/9 [01:41<00:25, 12.98s/it]"
     ]
    },
    {
     "name": "stdout",
     "output_type": "stream",
     "text": [
      " > Processing time: 9.605350971221924\n",
      " > Real-time factor: 1.6252147706832676\n",
      " > Text splitted to sentences.\n",
      "['On a normal day, Shiva would have smiled at the memory from a cheerful past that had been overwhelmed by the angst of the present.']\n"
     ]
    },
    {
     "name": "stderr",
     "output_type": "stream",
     "text": [
      " 89%|████████▉ | 8/9 [01:54<00:13, 13.00s/it]"
     ]
    },
    {
     "name": "stdout",
     "output_type": "stream",
     "text": [
      " > Processing time: 13.036885023117065\n",
      " > Real-time factor: 1.6884181160119545\n",
      " > Text splitted to sentences.\n",
      "['But today, he turned back towards his village without any hint of joy.']\n"
     ]
    }
   ],
   "source": [
    "with open(\"./inputs/meluha_text_en.txt\", \"r\") as f:\n",
    "    text_en = f.read()\n",
    "\n",
    "gen_speech(text_en, name=\"meluha\", language=\"en\", speaker=\"Ana Florence\")"
   ]
  },
  {
   "cell_type": "code",
   "execution_count": null,
   "metadata": {},
   "outputs": [],
   "source": [
    "with open(\"./inputs/meluha_text_hi.txt\", \"r\") as f:\n",
    "    text_hi = f.read()\n",
    "\n",
    "gen_speech(text_hi, name=\"meluha\", language=\"hi\", speaker=\"Ana Florence\")"
   ]
  },
  {
   "cell_type": "code",
   "execution_count": 16,
   "metadata": {},
   "outputs": [
    {
     "data": {
      "text/plain": [
       "225"
      ]
     },
     "execution_count": 16,
     "metadata": {},
     "output_type": "execute_result"
    }
   ],
   "source": [
    "text_en = \"Shiva gazed at the orange sky. The clouds hovering above Mansarovar had just parted to reveal the setting sun. The briliant giver of life was calling it a day once again. Shiva had seen a few sunrises in his twenty-one years.\"\n",
    "len(text_en)"
   ]
  },
  {
   "cell_type": "code",
   "execution_count": null,
   "metadata": {},
   "outputs": [],
   "source": [
    "# generate speech by cloning a voice using default settings\n",
    "tts.tts_to_file(text=text_en,\n",
    "                file_path=\"output_en.wav\",\n",
    "                speaker=\"Ana Florence\",\n",
    "                language=\"en\")"
   ]
  },
  {
   "cell_type": "code",
   "execution_count": 18,
   "metadata": {},
   "outputs": [
    {
     "data": {
      "text/plain": [
       "239"
      ]
     },
     "execution_count": 18,
     "metadata": {},
     "output_type": "execute_result"
    }
   ],
   "source": [
    "text_hi = \"शिव ने नारंगी आकाश की ओर देखा। मानसरोवर के ऊपर मंडरा रहे बादल अस्त होते सूर्य को दिखाने के लिए अभी-अभी छंट चुके थे। जीवन का प्रतिभाशाली दाता एक बार फिर अपने दिन का आह्वान कर रहा था। शिव ने अपनी इक्कीस वर्ष की आयु में कुछ सूर्योदय देखे थे। \"\n",
    "len(text_hi)"
   ]
  },
  {
   "cell_type": "code",
   "execution_count": 5,
   "metadata": {},
   "outputs": [
    {
     "name": "stdout",
     "output_type": "stream",
     "text": [
      " > Text splitted to sentences.\n",
      "['शिव ने नारंगी आकाश की ओर देखा। मानसरोवर के ऊपर मंडरा रहे बादल अस्त होते सूर्य को दिखाने के लिए अभी-अभी छंट चुके थे। जीवन का प्रतिभाशाली दाता एक बार फिर अपने दिन का आह्वान कर रहा था। शिव ने अपनी इक्कीस वर्ष की आयु में कुछ सूर्योदय देखे थे।']\n",
      " > Processing time: 33.49595499038696\n",
      " > Real-time factor: 1.7040722422801517\n"
     ]
    },
    {
     "data": {
      "text/plain": [
       "'output_hi.wav'"
      ]
     },
     "execution_count": 5,
     "metadata": {},
     "output_type": "execute_result"
    }
   ],
   "source": [
    "# generate speech by cloning a voice using default settings\n",
    "tts.tts_to_file(text=text_hi,\n",
    "                file_path=\"output_hi.wav\",\n",
    "                speaker=\"Ana Florence\",\n",
    "                language=\"hi\")"
   ]
  },
  {
   "cell_type": "code",
   "execution_count": null,
   "metadata": {},
   "outputs": [],
   "source": []
  }
 ],
 "metadata": {
  "kernelspec": {
   "display_name": "aipy39",
   "language": "python",
   "name": "python3"
  },
  "language_info": {
   "codemirror_mode": {
    "name": "ipython",
    "version": 3
   },
   "file_extension": ".py",
   "mimetype": "text/x-python",
   "name": "python",
   "nbconvert_exporter": "python",
   "pygments_lexer": "ipython3",
   "version": "3.9.19"
  },
  "polyglot_notebook": {
   "kernelInfo": {
    "defaultKernelName": "csharp",
    "items": [
     {
      "aliases": [],
      "name": "csharp"
     }
    ]
   }
  }
 },
 "nbformat": 4,
 "nbformat_minor": 2
}
