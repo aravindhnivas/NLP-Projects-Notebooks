{
 "cells": [
  {
   "cell_type": "code",
   "execution_count": 2,
   "metadata": {
    "dotnet_interactive": {
     "language": "csharp"
    },
    "polyglot_notebook": {
     "kernelName": "csharp"
    }
   },
   "outputs": [
    {
     "name": "stderr",
     "output_type": "stream",
     "text": [
      "/opt/miniconda3/envs/aipy311/lib/python3.11/site-packages/pydub/utils.py:170: RuntimeWarning: Couldn't find ffmpeg or avconv - defaulting to ffmpeg, but may not work\n",
      "  warn(\"Couldn't find ffmpeg or avconv - defaulting to ffmpeg, but may not work\", RuntimeWarning)\n"
     ]
    }
   ],
   "source": [
    "from TTS.api import TTS\n",
    "from pydub import AudioSegment\n",
    "import os\n",
    "from tqdm import tqdm"
   ]
  },
  {
   "cell_type": "code",
   "execution_count": 3,
   "metadata": {},
   "outputs": [
    {
     "name": "stdout",
     "output_type": "stream",
     "text": [
      " > tts_models/multilingual/multi-dataset/xtts_v2 is already downloaded.\n"
     ]
    },
    {
     "name": "stderr",
     "output_type": "stream",
     "text": [
      "/opt/miniconda3/envs/aipy311/lib/python3.11/site-packages/tqdm/auto.py:21: TqdmWarning: IProgress not found. Please update jupyter and ipywidgets. See https://ipywidgets.readthedocs.io/en/stable/user_install.html\n",
      "  from .autonotebook import tqdm as notebook_tqdm\n"
     ]
    },
    {
     "name": "stdout",
     "output_type": "stream",
     "text": [
      " > Using model: xtts\n"
     ]
    },
    {
     "name": "stderr",
     "output_type": "stream",
     "text": [
      "/opt/miniconda3/envs/aipy311/lib/python3.11/site-packages/TTS/tts/layers/xtts/xtts_manager.py:5: FutureWarning: You are using `torch.load` with `weights_only=False` (the current default value), which uses the default pickle module implicitly. It is possible to construct malicious pickle data which will execute arbitrary code during unpickling (See https://github.com/pytorch/pytorch/blob/main/SECURITY.md#untrusted-models for more details). In a future release, the default value for `weights_only` will be flipped to `True`. This limits the functions that could be executed during unpickling. Arbitrary objects will no longer be allowed to be loaded via this mode unless they are explicitly allowlisted by the user via `torch.serialization.add_safe_globals`. We recommend you start setting `weights_only=True` for any use case where you don't have full control of the loaded file. Please open an issue on GitHub for any issues related to this experimental feature.\n",
      "  self.speakers = torch.load(speaker_file_path)\n",
      "/opt/miniconda3/envs/aipy311/lib/python3.11/site-packages/TTS/utils/io.py:54: FutureWarning: You are using `torch.load` with `weights_only=False` (the current default value), which uses the default pickle module implicitly. It is possible to construct malicious pickle data which will execute arbitrary code during unpickling (See https://github.com/pytorch/pytorch/blob/main/SECURITY.md#untrusted-models for more details). In a future release, the default value for `weights_only` will be flipped to `True`. This limits the functions that could be executed during unpickling. Arbitrary objects will no longer be allowed to be loaded via this mode unless they are explicitly allowlisted by the user via `torch.serialization.add_safe_globals`. We recommend you start setting `weights_only=True` for any use case where you don't have full control of the loaded file. Please open an issue on GitHub for any issues related to this experimental feature.\n",
      "  return torch.load(f, map_location=map_location, **kwargs)\n"
     ]
    }
   ],
   "source": [
    "tts = TTS(\"tts_models/multilingual/multi-dataset/xtts_v2\", progress_bar=True)"
   ]
  },
  {
   "cell_type": "code",
   "execution_count": 4,
   "metadata": {},
   "outputs": [],
   "source": [
    "def split_text(text, max_len=200):\n",
    "    paragraphs = text.split(\"\\n\")\n",
    "    chunks = []\n",
    "    for paragraph in paragraphs:\n",
    "        sentences = paragraph.split(\".\")\n",
    "        chunk = \"\"\n",
    "        for sentence in sentences:\n",
    "            sentence = sentence.strip()\n",
    "            if len(sentence) == 0:\n",
    "                continue\n",
    "            sentence += \".\"\n",
    "            if len(chunk) + len(sentence) <= max_len:\n",
    "                chunk += \" \" + sentence\n",
    "            else:\n",
    "                if len(sentence) > max_len:\n",
    "                    for i in range(0, len(sentence), max_len):\n",
    "                        sub_sentence = sentence[i:i+max_len]\n",
    "                        if sub_sentence[-1] != \".\":\n",
    "                            sub_sentence += \".\"\n",
    "                        chunks.append(sub_sentence)\n",
    "                else:\n",
    "                    chunks.append(chunk.strip())\n",
    "                    chunk = sentence\n",
    "        if chunk:\n",
    "            chunks.append(chunk.strip())\n",
    "    return chunks\n",
    "\n",
    "def gen_speech(text, name='output', out_fmt=\"mp3\", language=\"en\", **kwargs):\n",
    "    audio = AudioSegment.empty()\n",
    "    outfilename = f\"{name}_{language}\"\n",
    "    for ind, chunk in enumerate(tqdm(split_text(text))):\n",
    "        file_path=f\"./processed_audio/{outfilename}_chunk_{ind}.wav\"\n",
    "        tts.tts_to_file(text=chunk,\n",
    "            file_path=file_path,\n",
    "            language=language,\n",
    "            **kwargs\n",
    "        )\n",
    "        \n",
    "        audio_chunk = AudioSegment.from_file(file_path)\n",
    "        audio += audio_chunk\n",
    "    \n",
    "    audio.export(f\"./processed_audio/{outfilename}.{out_fmt}\", format=out_fmt)\n",
    "    \n",
    "    # remove the chunk audio files\n",
    "    # for ind in range(len(split_text(text))):\n",
    "    #     file_path=f\"{name}_{language}_chunk_{ind}.wav\"\n",
    "    #     os.remove(file_path)\n",
    "    return audio"
   ]
  },
  {
   "cell_type": "code",
   "execution_count": 5,
   "metadata": {},
   "outputs": [],
   "source": [
    "with open(\"./inputs/meluha_text_en.txt\", \"r\") as f:\n",
    "    text_en = f.read()\n",
    "\n",
    "# gen_speech(text_en, name=\"meluha\", language=\"en\", speaker=\"Ana Florence\")"
   ]
  },
  {
   "cell_type": "code",
   "execution_count": 6,
   "metadata": {},
   "outputs": [
    {
     "data": {
      "text/plain": [
       "'शिव ने नारंगी आकाश की ओर देखा। मानसरोवर के ऊपर मंडरा रहे बादल अस्त होते सूर्य को दिखाने के लिए अभी-अभी छंट चुके थे। जीवन का प्रतिभाशाली दाता एक बार फिर अपने दिन का आह्वान कर रहा था। शिव ने अपनी इक्कीस वर्ष की आयु में कुछ सूर्योदय देखे थे। लेकिन सूर्यास्त! उसने कोशिश की कि कभी भी सूर्यास्त न छूटे! किसी भी अन्य दिन, शिव ने सूर्य और हिमालय की शानदार पृष्ठभूमि के सामने विशाल झील का दृश्य देखा होगा, जहां तक \\u200b\\u200bआंख देख सकती थी। लेकिन आज नहीं।\\n\\nवह झील के ऊपर फैली संकरी कगार पर बैठ गया और अपना गठीला, मांसल शरीर बना लिया। उसकी त्वचा पर युद्ध के अनगिनत निशान पानी की झिलमिलाती परावर्तित रोशनी में चमक रहे थे। शिव को अपने बचपन के अल्हड़ दिन अच्छी तरह याद थे। उन्होंने झील की सतह से उछलकर आने वाले कंकड़ फेंकने की कला में महारत हासिल कर ली थी। उन्होंने अभी भी अपने समुदाय में सबसे अधिक बाउंस: सत्रह का रिकॉर्ड कायम रखा है।\\n\\nएक सामान्य दिन में, शिव अपने हँसमुख अतीत को याद करके मुस्कुरा देते थे जो वर्तमान के संताप से अभिभूत हो गया था। लेकिन आज वह बिना किसी खुशी के वापस अपने गांव की ओर मुड़ गया।'"
      ]
     },
     "execution_count": 6,
     "metadata": {},
     "output_type": "execute_result"
    }
   ],
   "source": [
    "with open(\"./inputs/meluha_text_hi.txt\", \"r\") as f:\n",
    "    text_hi = f.read()\n",
    "\n",
    "# gen_speech(text_hi, name=\"meluha\", language=\"hi\", speaker=\"Ana Florence\")\n",
    "text_hi"
   ]
  },
  {
   "cell_type": "code",
   "execution_count": 12,
   "metadata": {},
   "outputs": [
    {
     "data": {
      "text/plain": [
       "<_io.BufferedRandom name='./Narendra_Modi_voice.wav'>"
      ]
     },
     "execution_count": 12,
     "metadata": {},
     "output_type": "execute_result"
    }
   ],
   "source": [
    "sound = AudioSegment.from_mp3(\"./Narendra_Modi_voice.mp3\")\n",
    "sound.export(\"./Narendra_Modi_voice.wav\", format=\"wav\")"
   ]
  },
  {
   "cell_type": "code",
   "execution_count": 15,
   "metadata": {},
   "outputs": [
    {
     "data": {
      "text/plain": [
       "<_io.BufferedRandom name='trimmed_audio_modi_60s.wav'>"
      ]
     },
     "execution_count": 15,
     "metadata": {},
     "output_type": "execute_result"
    }
   ],
   "source": [
    "audio = AudioSegment.from_wav(\"./Narendra_Modi_voice.wav\")\n",
    "seconds = 60\n",
    "ms = seconds * 1000\n",
    "trimmed_audio = audio[:ms]\n",
    "trimmed_filename = f\"trimmed_audio_modi_{seconds}s.wav\"\n",
    "trimmed_audio.export(trimmed_filename, format=\"wav\")"
   ]
  },
  {
   "cell_type": "code",
   "execution_count": 16,
   "metadata": {},
   "outputs": [
    {
     "name": "stderr",
     "output_type": "stream",
     "text": [
      "  0%|          | 0/6 [00:00<?, ?it/s]"
     ]
    },
    {
     "name": "stdout",
     "output_type": "stream",
     "text": [
      " > Text splitted to sentences.\n",
      "['शिव ने नारंगी आकाश की ओर देखा। मानसरोवर के ऊपर मंडरा रहे बादल अस्त होते सूर्य को दिखाने के लिए अभी-अभी छंट चुके थे। जीवन का प्रतिभाशाली दाता एक बार फिर अपने दिन का आह्वान कर रहा था। शिव ने अपनी इक्कीस.']\n"
     ]
    },
    {
     "name": "stderr",
     "output_type": "stream",
     "text": [
      " 17%|█▋        | 1/6 [00:28<02:24, 28.88s/it]"
     ]
    },
    {
     "name": "stdout",
     "output_type": "stream",
     "text": [
      " > Processing time: 28.85390281677246\n",
      " > Real-time factor: 1.7738450648777513\n",
      " > Text splitted to sentences.\n",
      "['वर्ष की आयु में कुछ सूर्योदय देखे थे। लेकिन सूर्यास्त!', 'उसने कोशिश की कि कभी भी सूर्यास्त न छूटे!', 'किसी भी अन्य दिन, शिव ने सूर्य और हिमालय की शानदार पृष्ठभूमि के सामने विशाल झील का दृश्य देखा होगा, जह.']\n"
     ]
    },
    {
     "name": "stderr",
     "output_type": "stream",
     "text": [
      " 33%|███▎      | 2/6 [01:07<02:17, 34.48s/it]"
     ]
    },
    {
     "name": "stdout",
     "output_type": "stream",
     "text": [
      " > Processing time: 38.36426496505737\n",
      " > Real-time factor: 1.7075461891602781\n",
      " > Text splitted to sentences.\n",
      "['ां तक \\u200b\\u200bआंख देख सकती थी। लेकिन आज नहीं।.']\n"
     ]
    },
    {
     "name": "stderr",
     "output_type": "stream",
     "text": [
      " 50%|█████     | 3/6 [01:20<01:14, 24.92s/it]"
     ]
    },
    {
     "name": "stdout",
     "output_type": "stream",
     "text": [
      " > Processing time: 13.52529001235962\n",
      " > Real-time factor: 1.7622709935031768\n",
      " > Text splitted to sentences.\n",
      "['वह झील के ऊपर फैली संकरी कगार पर बैठ गया और अपना गठीला, मांसल शरीर बना लिया। उसकी त्वचा पर युद्ध के अनगिनत निशान पानी की झिलमिलाती परावर्तित रोशनी में चमक रहे थे। शिव को अपने बचपन के अल्हड़ दिन अच्छी .']\n"
     ]
    },
    {
     "name": "stderr",
     "output_type": "stream",
     "text": [
      " 67%|██████▋   | 4/6 [01:49<00:53, 26.51s/it]"
     ]
    },
    {
     "name": "stdout",
     "output_type": "stream",
     "text": [
      " > Processing time: 28.91619300842285\n",
      " > Real-time factor: 1.7551256767114176\n",
      " > Text splitted to sentences.\n",
      "['तरह याद थे। उन्होंने झील की सतह से उछलकर आने वाले कंकड़ फेंकने की कला में महारत हासिल कर ली थी। उन्होंने अभी भी अपने समुदाय में सबसे अधिक बाउंस: सत्रह का रिकॉर्ड कायम रखा है।.']\n"
     ]
    }
   ],
   "source": [
    "# gen_speech(text_hi, name=\"meluha_cloned_modi_1_speed1\", language=\"hi\", speaker_wav=\"./modi_1.wav\")\n",
    "gen_speech(text_hi, name=f\"{trimmed_filename}_generated_speech\", language=\"hi\", speaker_wav=trimmed_filename)"
   ]
  }
 ],
 "metadata": {
  "kernelspec": {
   "display_name": "aipy",
   "language": "python",
   "name": "python3"
  },
  "language_info": {
   "codemirror_mode": {
    "name": "ipython",
    "version": 3
   },
   "file_extension": ".py",
   "mimetype": "text/x-python",
   "name": "python",
   "nbconvert_exporter": "python",
   "pygments_lexer": "ipython3",
   "version": "3.11.9"
  },
  "polyglot_notebook": {
   "kernelInfo": {
    "defaultKernelName": "csharp",
    "items": [
     {
      "aliases": [],
      "name": "csharp"
     }
    ]
   }
  }
 },
 "nbformat": 4,
 "nbformat_minor": 2
}
