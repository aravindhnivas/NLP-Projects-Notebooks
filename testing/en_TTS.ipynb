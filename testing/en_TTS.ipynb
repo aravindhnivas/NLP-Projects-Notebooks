{
 "cells": [
  {
   "cell_type": "code",
   "execution_count": 65,
   "metadata": {
    "dotnet_interactive": {
     "language": "csharp"
    },
    "polyglot_notebook": {
     "kernelName": "csharp"
    }
   },
   "outputs": [],
   "source": [
    "from TTS.api import TTS\n",
    "from pydub import AudioSegment\n",
    "import os\n",
    "from tqdm import tqdm"
   ]
  },
  {
   "cell_type": "code",
   "execution_count": null,
   "metadata": {},
   "outputs": [],
   "source": [
    "tts = TTS(\"tts_models/multilingual/multi-dataset/xtts_v2\", progress_bar=True)"
   ]
  },
  {
   "cell_type": "code",
   "execution_count": 66,
   "metadata": {},
   "outputs": [],
   "source": []
  },
  {
   "cell_type": "code",
   "execution_count": 71,
   "metadata": {},
   "outputs": [],
   "source": [
    "def split_text(text, max_len=200):\n",
    "    paragraphs = text.split(\"\\n\")\n",
    "    chunks = []\n",
    "    for paragraph in paragraphs:\n",
    "        sentences = paragraph.split(\".\")\n",
    "        chunk = \"\"\n",
    "        for sentence in sentences:\n",
    "            sentence = sentence.strip()\n",
    "            if len(sentence) == 0:\n",
    "                continue\n",
    "            sentence += \".\"\n",
    "            if len(chunk) + len(sentence) <= max_len:\n",
    "                chunk += \" \" + sentence\n",
    "            else:\n",
    "                if len(sentence) > max_len:\n",
    "                    for i in range(0, len(sentence), max_len):\n",
    "                        sub_sentence = sentence[i:i+max_len]\n",
    "                        if sub_sentence[-1] != \".\":\n",
    "                            sub_sentence += \".\"\n",
    "                        chunks.append(sub_sentence)\n",
    "                else:\n",
    "                    chunks.append(chunk.strip())\n",
    "                    chunk = sentence\n",
    "        if chunk:\n",
    "            chunks.append(chunk.strip())\n",
    "    return chunks\n",
    "\n",
    "def gen_speech(text, name='output', speaker=\"Ana Florence\", language=\"en\", out_fmt=\"mp3\"):\n",
    "    audio = AudioSegment.empty()\n",
    "    outfilename = f\"{name}_{language}\"\n",
    "    for ind, chunk in enumerate(tqdm(split_text(text))):\n",
    "        file_path=f\"./processed_audio/{outfilename}_chunk_{ind}.wav\"\n",
    "        tts.tts_to_file(text=chunk,\n",
    "            file_path=file_path,\n",
    "            speaker=speaker,\n",
    "            language=language)\n",
    "        \n",
    "        audio_chunk = AudioSegment.from_file(file_path)\n",
    "        audio += audio_chunk\n",
    "    \n",
    "    audio.export(f\"./processed_audio/{outfilename}.{out_fmt}\", format=out_fmt)\n",
    "    \n",
    "    # remove the chunk audio files\n",
    "    # for ind in range(len(split_text(text))):\n",
    "    #     file_path=f\"{name}_{language}_chunk_{ind}.wav\"\n",
    "    #     os.remove(file_path)\n",
    "    return audio"
   ]
  },
  {
   "cell_type": "code",
   "execution_count": 75,
   "metadata": {},
   "outputs": [
    {
     "name": "stderr",
     "output_type": "stream",
     "text": [
      "  0%|          | 0/9 [00:00<?, ?it/s]"
     ]
    },
    {
     "name": "stdout",
     "output_type": "stream",
     "text": [
      " > Text splitted to sentences.\n",
      "['Shiva gazed at the orange sky.', 'The clouds hovering above Mansarovar had just parted to reveal the setting sun.', 'The brilliant giver of life was calling it a day once again.']\n"
     ]
    }
   ],
   "source": [
    "with open(\"./inputs/meluha_text_en.txt\", \"r\") as f:\n",
    "    text_en = f.read()\n",
    "\n",
    "gen_speech(text_en, name=\"meluha\", language=\"en\", speaker=\"Ana Florence\")"
   ]
  },
  {
   "cell_type": "code",
   "execution_count": 16,
   "metadata": {},
   "outputs": [
    {
     "data": {
      "text/plain": [
       "225"
      ]
     },
     "execution_count": 16,
     "metadata": {},
     "output_type": "execute_result"
    }
   ],
   "source": [
    "text_en = \"Shiva gazed at the orange sky. The clouds hovering above Mansarovar had just parted to reveal the setting sun. The briliant giver of life was calling it a day once again. Shiva had seen a few sunrises in his twenty-one years.\"\n",
    "len(text_en)"
   ]
  },
  {
   "cell_type": "code",
   "execution_count": null,
   "metadata": {},
   "outputs": [],
   "source": [
    "# generate speech by cloning a voice using default settings\n",
    "tts.tts_to_file(text=text_en,\n",
    "                file_path=\"output_en.wav\",\n",
    "                speaker=\"Ana Florence\",\n",
    "                language=\"en\")"
   ]
  },
  {
   "cell_type": "code",
   "execution_count": 18,
   "metadata": {},
   "outputs": [
    {
     "data": {
      "text/plain": [
       "239"
      ]
     },
     "execution_count": 18,
     "metadata": {},
     "output_type": "execute_result"
    }
   ],
   "source": [
    "text_hi = \"शिव ने नारंगी आकाश की ओर देखा। मानसरोवर के ऊपर मंडरा रहे बादल अस्त होते सूर्य को दिखाने के लिए अभी-अभी छंट चुके थे। जीवन का प्रतिभाशाली दाता एक बार फिर अपने दिन का आह्वान कर रहा था। शिव ने अपनी इक्कीस वर्ष की आयु में कुछ सूर्योदय देखे थे। \"\n",
    "len(text_hi)"
   ]
  },
  {
   "cell_type": "code",
   "execution_count": 5,
   "metadata": {},
   "outputs": [
    {
     "name": "stdout",
     "output_type": "stream",
     "text": [
      " > Text splitted to sentences.\n",
      "['शिव ने नारंगी आकाश की ओर देखा। मानसरोवर के ऊपर मंडरा रहे बादल अस्त होते सूर्य को दिखाने के लिए अभी-अभी छंट चुके थे। जीवन का प्रतिभाशाली दाता एक बार फिर अपने दिन का आह्वान कर रहा था। शिव ने अपनी इक्कीस वर्ष की आयु में कुछ सूर्योदय देखे थे।']\n",
      " > Processing time: 33.49595499038696\n",
      " > Real-time factor: 1.7040722422801517\n"
     ]
    },
    {
     "data": {
      "text/plain": [
       "'output_hi.wav'"
      ]
     },
     "execution_count": 5,
     "metadata": {},
     "output_type": "execute_result"
    }
   ],
   "source": [
    "# generate speech by cloning a voice using default settings\n",
    "tts.tts_to_file(text=text_hi,\n",
    "                file_path=\"output_hi.wav\",\n",
    "                speaker=\"Ana Florence\",\n",
    "                language=\"hi\")"
   ]
  },
  {
   "cell_type": "code",
   "execution_count": null,
   "metadata": {},
   "outputs": [],
   "source": []
  }
 ],
 "metadata": {
  "kernelspec": {
   "display_name": "aipy39",
   "language": "python",
   "name": "python3"
  },
  "language_info": {
   "codemirror_mode": {
    "name": "ipython",
    "version": 3
   },
   "file_extension": ".py",
   "mimetype": "text/x-python",
   "name": "python",
   "nbconvert_exporter": "python",
   "pygments_lexer": "ipython3",
   "version": "3.9.19"
  },
  "polyglot_notebook": {
   "kernelInfo": {
    "defaultKernelName": "csharp",
    "items": [
     {
      "aliases": [],
      "name": "csharp"
     }
    ]
   }
  }
 },
 "nbformat": 4,
 "nbformat_minor": 2
}
