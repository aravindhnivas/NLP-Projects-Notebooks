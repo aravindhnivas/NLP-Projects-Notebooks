{
 "cells": [
  {
   "cell_type": "code",
   "execution_count": 1,
   "metadata": {
    "dotnet_interactive": {
     "language": "csharp"
    },
    "polyglot_notebook": {
     "kernelName": "csharp"
    }
   },
   "outputs": [],
   "source": [
    "from TTS.api import TTS\n",
    "from pydub import AudioSegment\n",
    "import os\n",
    "from tqdm import tqdm"
   ]
  },
  {
   "cell_type": "code",
   "execution_count": 2,
   "metadata": {},
   "outputs": [
    {
     "name": "stdout",
     "output_type": "stream",
     "text": [
      " > tts_models/multilingual/multi-dataset/xtts_v2 is already downloaded.\n"
     ]
    },
    {
     "name": "stderr",
     "output_type": "stream",
     "text": [
      "/Users/aravindhnivas/anaconda3/envs/aipy39/lib/python3.9/site-packages/tqdm/auto.py:21: TqdmWarning: IProgress not found. Please update jupyter and ipywidgets. See https://ipywidgets.readthedocs.io/en/stable/user_install.html\n",
      "  from .autonotebook import tqdm as notebook_tqdm\n"
     ]
    },
    {
     "name": "stdout",
     "output_type": "stream",
     "text": [
      " > Using model: xtts\n"
     ]
    }
   ],
   "source": [
    "tts = TTS(\"tts_models/multilingual/multi-dataset/xtts_v2\", progress_bar=True)"
   ]
  },
  {
   "cell_type": "code",
   "execution_count": 3,
   "metadata": {},
   "outputs": [],
   "source": [
    "def split_text(text, max_len=200):\n",
    "    paragraphs = text.split(\"\\n\")\n",
    "    chunks = []\n",
    "    for paragraph in paragraphs:\n",
    "        sentences = paragraph.split(\".\")\n",
    "        chunk = \"\"\n",
    "        for sentence in sentences:\n",
    "            sentence = sentence.strip()\n",
    "            if len(sentence) == 0:\n",
    "                continue\n",
    "            sentence += \".\"\n",
    "            if len(chunk) + len(sentence) <= max_len:\n",
    "                chunk += \" \" + sentence\n",
    "            else:\n",
    "                if len(sentence) > max_len:\n",
    "                    for i in range(0, len(sentence), max_len):\n",
    "                        sub_sentence = sentence[i:i+max_len]\n",
    "                        if sub_sentence[-1] != \".\":\n",
    "                            sub_sentence += \".\"\n",
    "                        chunks.append(sub_sentence)\n",
    "                else:\n",
    "                    chunks.append(chunk.strip())\n",
    "                    chunk = sentence\n",
    "        if chunk:\n",
    "            chunks.append(chunk.strip())\n",
    "    return chunks\n",
    "\n",
    "def gen_speech(text, name='output', out_fmt=\"mp3\", language=\"en\", **kwargs):\n",
    "    audio = AudioSegment.empty()\n",
    "    outfilename = f\"{name}_{language}\"\n",
    "    for ind, chunk in enumerate(tqdm(split_text(text))):\n",
    "        file_path=f\"./processed_audio/{outfilename}_chunk_{ind}.wav\"\n",
    "        tts.tts_to_file(text=chunk,\n",
    "            file_path=file_path,\n",
    "            language=language\n",
    "            **kwargs\n",
    "        )\n",
    "        \n",
    "        audio_chunk = AudioSegment.from_file(file_path)\n",
    "        audio += audio_chunk\n",
    "    \n",
    "    audio.export(f\"./processed_audio/{outfilename}.{out_fmt}\", format=out_fmt)\n",
    "    \n",
    "    # remove the chunk audio files\n",
    "    # for ind in range(len(split_text(text))):\n",
    "    #     file_path=f\"{name}_{language}_chunk_{ind}.wav\"\n",
    "    #     os.remove(file_path)\n",
    "    return audio"
   ]
  },
  {
   "cell_type": "code",
   "execution_count": 6,
   "metadata": {},
   "outputs": [],
   "source": [
    "with open(\"./inputs/meluha_text_en.txt\", \"r\") as f:\n",
    "    text_en = f.read()\n",
    "\n",
    "# gen_speech(text_en, name=\"meluha\", language=\"en\", speaker=\"Ana Florence\")"
   ]
  },
  {
   "cell_type": "code",
   "execution_count": 5,
   "metadata": {},
   "outputs": [
    {
     "data": {
      "text/plain": [
       "'शिव ने नारंगी आकाश की ओर देखा। मानसरोवर के ऊपर मंडरा रहे बादल अस्त होते सूर्य को दिखाने के लिए अभी-अभी छंट चुके थे। जीवन का प्रतिभाशाली दाता एक बार फिर अपने दिन का आह्वान कर रहा था। शिव ने अपनी इक्कीस वर्ष की आयु में कुछ सूर्योदय देखे थे। लेकिन सूर्यास्त! उसने कोशिश की कि कभी भी सूर्यास्त न छूटे! किसी भी अन्य दिन, शिव ने सूर्य और हिमालय की शानदार पृष्ठभूमि के सामने विशाल झील का दृश्य देखा होगा, जहां तक \\u200b\\u200bआंख देख सकती थी। लेकिन आज नहीं।\\n\\nवह झील के ऊपर फैली संकरी कगार पर बैठ गया और अपना गठीला, मांसल शरीर बना लिया। उसकी त्वचा पर युद्ध के अनगिनत निशान पानी की झिलमिलाती परावर्तित रोशनी में चमक रहे थे। शिव को अपने बचपन के अल्हड़ दिन अच्छी तरह याद थे। उन्होंने झील की सतह से उछलकर आने वाले कंकड़ फेंकने की कला में महारत हासिल कर ली थी। उन्होंने अभी भी अपने समुदाय में सबसे अधिक बाउंस: सत्रह का रिकॉर्ड कायम रखा है।\\n\\nएक सामान्य दिन में, शिव अपने हँसमुख अतीत को याद करके मुस्कुरा देते थे जो वर्तमान के संताप से अभिभूत हो गया था। लेकिन आज वह बिना किसी खुशी के वापस अपने गांव की ओर मुड़ गया।'"
      ]
     },
     "execution_count": 5,
     "metadata": {},
     "output_type": "execute_result"
    }
   ],
   "source": [
    "with open(\"./inputs/meluha_text_hi.txt\", \"r\") as f:\n",
    "    text_hi = f.read()\n",
    "\n",
    "# gen_speech(text_hi, name=\"meluha\", language=\"hi\", speaker=\"Ana Florence\")\n",
    "text_hi"
   ]
  },
  {
   "cell_type": "code",
   "execution_count": null,
   "metadata": {},
   "outputs": [],
   "source": [
    "gen_speech(text_hi, name=\"meluha_cloned\", language=\"hi\", speaker=\"Ana Florence\")"
   ]
  }
 ],
 "metadata": {
  "kernelspec": {
   "display_name": "aipy39",
   "language": "python",
   "name": "python3"
  },
  "language_info": {
   "codemirror_mode": {
    "name": "ipython",
    "version": 3
   },
   "file_extension": ".py",
   "mimetype": "text/x-python",
   "name": "python",
   "nbconvert_exporter": "python",
   "pygments_lexer": "ipython3",
   "version": "3.9.19"
  },
  "polyglot_notebook": {
   "kernelInfo": {
    "defaultKernelName": "csharp",
    "items": [
     {
      "aliases": [],
      "name": "csharp"
     }
    ]
   }
  }
 },
 "nbformat": 4,
 "nbformat_minor": 2
}
